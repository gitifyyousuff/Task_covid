{
 "cells": [
  {
   "cell_type": "code",
   "execution_count": 5,
   "metadata": {},
   "outputs": [
    {
     "name": "stdout",
     "output_type": "stream",
     "text": [
      "         Sno       Date     Time State/UnionTerritory ConfirmedIndianNational  \\\n",
      "0          1  1/30/2020  6:00 PM               Kerala                       1   \n",
      "1          2  1/31/2020  6:00 PM               Kerala                       1   \n",
      "2          3   2/1/2020  6:00 PM               Kerala                       2   \n",
      "3          4   2/2/2020  6:00 PM               Kerala                       3   \n",
      "4          5   2/3/2020  6:00 PM               Kerala                       3   \n",
      "...      ...        ...      ...                  ...                     ...   \n",
      "15801  15802   6/8/2021  8:00 AM            Telangana                       -   \n",
      "15802  15803   6/8/2021  8:00 AM              Tripura                       -   \n",
      "15803  15804   6/8/2021  8:00 AM          Uttarakhand                       -   \n",
      "15804  15805   6/8/2021  8:00 AM        Uttar Pradesh                       -   \n",
      "15805  15806   6/8/2021  8:00 AM          West Bengal                       -   \n",
      "\n",
      "      ConfirmedForeignNational    Cured  Deaths  Confirmed  \n",
      "0                            0        0       0          1  \n",
      "1                            0        0       0          1  \n",
      "2                            0        0       0          2  \n",
      "3                            0        0       0          3  \n",
      "4                            0        0       0          3  \n",
      "...                        ...      ...     ...        ...  \n",
      "15801                        -   564303    3394     593103  \n",
      "15802                        -    49579     572      56169  \n",
      "15803                        -   313566    6731     334419  \n",
      "15804                        -  1662069   21333    1699083  \n",
      "15805                        -  1388771   16362    1432019  \n",
      "\n",
      "[15806 rows x 9 columns]\n",
      "Index(['Sno', 'Date', 'Time', 'State/UnionTerritory',\n",
      "       'ConfirmedIndianNational', 'ConfirmedForeignNational', 'Cured',\n",
      "       'Deaths', 'Confirmed'],\n",
      "      dtype='object')\n"
     ]
    }
   ],
   "source": [
    "#Reading Excel file\n",
    "import pandas as pd\n",
    "covid_df =  pd.read_csv('covid_19_india.csv')\n",
    "print(covid_df)\n",
    "print(df.columns)"
   ]
  },
  {
   "cell_type": "code",
   "execution_count": 6,
   "metadata": {},
   "outputs": [
    {
     "data": {
      "text/plain": [
       "Kerala                                      496\n",
       "Delhi                                       464\n",
       "Rajasthan                                   463\n",
       "Uttar Pradesh                               462\n",
       "Haryana                                     462\n",
       "Ladakh                                      459\n",
       "Tamil Nadu                                  459\n",
       "Maharashtra                                 457\n",
       "Jammu and Kashmir                           457\n",
       "Punjab                                      457\n",
       "Karnataka                                   457\n",
       "Andhra Pradesh                              454\n",
       "Uttarakhand                                 451\n",
       "Odisha                                      450\n",
       "Puducherry                                  448\n",
       "West Bengal                                 448\n",
       "Chhattisgarh                                447\n",
       "Chandigarh                                  447\n",
       "Gujarat                                     446\n",
       "Madhya Pradesh                              445\n",
       "Himachal Pradesh                            445\n",
       "Bihar                                       444\n",
       "Manipur                                     442\n",
       "Mizoram                                     441\n",
       "Andaman and Nicobar Islands                 440\n",
       "Goa                                         440\n",
       "Assam                                       434\n",
       "Jharkhand                                   434\n",
       "Arunachal Pradesh                           432\n",
       "Tripura                                     428\n",
       "Telengana                                   426\n",
       "Meghalaya                                   421\n",
       "Dadra and Nagar Haveli and Daman and Diu    397\n",
       "Nagaland                                    388\n",
       "Sikkim                                      381\n",
       "Lakshadweep                                 180\n",
       "Cases being reassigned to states             60\n",
       "Telangana                                    38\n",
       "Unassigned                                    3\n",
       "Dadra and Nagar Haveli                        2\n",
       "Daman & Diu                                   1\n",
       "Name: State/UnionTerritory, dtype: int64"
      ]
     },
     "execution_count": 6,
     "metadata": {},
     "output_type": "execute_result"
    }
   ],
   "source": [
    "#Getting the total count wrt to state\n",
    "covid_df['State/UnionTerritory'].value_counts()"
   ]
  },
  {
   "cell_type": "code",
   "execution_count": 8,
   "metadata": {},
   "outputs": [],
   "source": [
    "#Filtering the month and summing up the confirmed list wrt to states\n",
    "covid_df['Months']=pd.to_datetime(df['Date']).dt.to_period('M')\n",
    "cnt_df = covid_df.groupby(['Months','State/UnionTerritory']).agg({'Confirmed':sum})\n",
    "cnt_df = cnt_df.reset_index()"
   ]
  },
  {
   "cell_type": "code",
   "execution_count": 9,
   "metadata": {},
   "outputs": [
    {
     "data": {
      "text/html": [
       "<div>\n",
       "<style scoped>\n",
       "    .dataframe tbody tr th:only-of-type {\n",
       "        vertical-align: middle;\n",
       "    }\n",
       "\n",
       "    .dataframe tbody tr th {\n",
       "        vertical-align: top;\n",
       "    }\n",
       "\n",
       "    .dataframe thead th {\n",
       "        text-align: right;\n",
       "    }\n",
       "</style>\n",
       "<table border=\"1\" class=\"dataframe\">\n",
       "  <thead>\n",
       "    <tr style=\"text-align: right;\">\n",
       "      <th></th>\n",
       "      <th>Months</th>\n",
       "      <th>State/UnionTerritory</th>\n",
       "      <th>Confirmed</th>\n",
       "    </tr>\n",
       "  </thead>\n",
       "  <tbody>\n",
       "    <tr>\n",
       "      <th>0</th>\n",
       "      <td>2020-01</td>\n",
       "      <td>Kerala</td>\n",
       "      <td>2</td>\n",
       "    </tr>\n",
       "    <tr>\n",
       "      <th>1</th>\n",
       "      <td>2020-02</td>\n",
       "      <td>Kerala</td>\n",
       "      <td>86</td>\n",
       "    </tr>\n",
       "    <tr>\n",
       "      <th>2</th>\n",
       "      <td>2020-03</td>\n",
       "      <td>Andaman and Nicobar Islands</td>\n",
       "      <td>36</td>\n",
       "    </tr>\n",
       "    <tr>\n",
       "      <th>3</th>\n",
       "      <td>2020-03</td>\n",
       "      <td>Andhra Pradesh</td>\n",
       "      <td>163</td>\n",
       "    </tr>\n",
       "    <tr>\n",
       "      <th>4</th>\n",
       "      <td>2020-03</td>\n",
       "      <td>Bihar</td>\n",
       "      <td>73</td>\n",
       "    </tr>\n",
       "    <tr>\n",
       "      <th>...</th>\n",
       "      <td>...</td>\n",
       "      <td>...</td>\n",
       "      <td>...</td>\n",
       "    </tr>\n",
       "    <tr>\n",
       "      <th>562</th>\n",
       "      <td>2021-06</td>\n",
       "      <td>Telangana</td>\n",
       "      <td>4689583</td>\n",
       "    </tr>\n",
       "    <tr>\n",
       "      <th>563</th>\n",
       "      <td>2021-06</td>\n",
       "      <td>Tripura</td>\n",
       "      <td>433065</td>\n",
       "    </tr>\n",
       "    <tr>\n",
       "      <th>564</th>\n",
       "      <td>2021-06</td>\n",
       "      <td>Uttar Pradesh</td>\n",
       "      <td>13564550</td>\n",
       "    </tr>\n",
       "    <tr>\n",
       "      <th>565</th>\n",
       "      <td>2021-06</td>\n",
       "      <td>Uttarakhand</td>\n",
       "      <td>2658494</td>\n",
       "    </tr>\n",
       "    <tr>\n",
       "      <th>566</th>\n",
       "      <td>2021-06</td>\n",
       "      <td>West Bengal</td>\n",
       "      <td>11249166</td>\n",
       "    </tr>\n",
       "  </tbody>\n",
       "</table>\n",
       "<p>567 rows × 3 columns</p>\n",
       "</div>"
      ],
      "text/plain": [
       "      Months         State/UnionTerritory  Confirmed\n",
       "0    2020-01                       Kerala          2\n",
       "1    2020-02                       Kerala         86\n",
       "2    2020-03  Andaman and Nicobar Islands         36\n",
       "3    2020-03               Andhra Pradesh        163\n",
       "4    2020-03                        Bihar         73\n",
       "..       ...                          ...        ...\n",
       "562  2021-06                    Telangana    4689583\n",
       "563  2021-06                      Tripura     433065\n",
       "564  2021-06                Uttar Pradesh   13564550\n",
       "565  2021-06                  Uttarakhand    2658494\n",
       "566  2021-06                  West Bengal   11249166\n",
       "\n",
       "[567 rows x 3 columns]"
      ]
     },
     "execution_count": 9,
     "metadata": {},
     "output_type": "execute_result"
    }
   ],
   "source": [
    "cnt_df"
   ]
  },
  {
   "cell_type": "code",
   "execution_count": 10,
   "metadata": {},
   "outputs": [],
   "source": [
    "#writting to csv\n",
    "cnt_df.to_csv('output_covid_19.csv')"
   ]
  },
  {
   "cell_type": "code",
   "execution_count": null,
   "metadata": {},
   "outputs": [],
   "source": []
  }
 ],
 "metadata": {
  "kernelspec": {
   "display_name": "Python 3",
   "language": "python",
   "name": "python3"
  },
  "language_info": {
   "codemirror_mode": {
    "name": "ipython",
    "version": 3
   },
   "file_extension": ".py",
   "mimetype": "text/x-python",
   "name": "python",
   "nbconvert_exporter": "python",
   "pygments_lexer": "ipython3",
   "version": "3.7.6"
  }
 },
 "nbformat": 4,
 "nbformat_minor": 4
}
